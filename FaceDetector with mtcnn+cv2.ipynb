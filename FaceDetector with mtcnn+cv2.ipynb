{
 "cells": [
  {
   "cell_type": "code",
   "execution_count": 1,
   "id": "86faada0",
   "metadata": {},
   "outputs": [],
   "source": [
    "import cv2\n",
    "import torch\n",
    "import numpy as np\n",
    "from facenet_pytorch import MTCNN\n",
    "from PIL import Image, ImageDraw"
   ]
  },
  {
   "cell_type": "code",
   "execution_count": 2,
   "id": "8011bdb3",
   "metadata": {},
   "outputs": [],
   "source": [
    "mtcnn = MTCNN(keep_all=True) # keep all faces"
   ]
  },
  {
   "cell_type": "code",
   "execution_count": 3,
   "id": "dbfabda0",
   "metadata": {},
   "outputs": [],
   "source": [
    "cap = cv2.VideoCapture(0)\n",
    "\n",
    "while True:\n",
    "    ret, frame = cap.read()\n",
    "    # detect face box, probability and landmarks\n",
    "    boxes, probs, landmarks = mtcnn.detect(frame, landmarks=True) # find faces\n",
    "    try:\n",
    "        for box, prob, ld in zip(boxes, probs, landmarks):\n",
    "            # parameters for bounding boxes\n",
    "            color = (0, 0, 255)\n",
    "            stroke = 2\n",
    "            ld = [int(c) for i in ld for c in i]\n",
    "\n",
    "            # coordinates and parameters of bounding boxes\n",
    "            x = int(box[0])\n",
    "            y = int(box[1])\n",
    "            w = int(box[2])\n",
    "            h = int(box[3])\n",
    "\n",
    "            roi_face = frame[y:h,  x:w] # bounding box on video frame\n",
    "            cv2.imwrite('face.jpg', roi_face) # saving current face\n",
    "\n",
    "            # Draw rectangle on frame\n",
    "            cv2.rectangle(frame, (x, y), (w, h), color, stroke)\n",
    "\n",
    "            # Show probability\n",
    "            cv2.putText(frame, str(prob), (w, h), cv2.FONT_HERSHEY_SIMPLEX, 1, (0, 0, 255), 2, cv2.LINE_AA)\n",
    "\n",
    "            # Draw face landmarks\n",
    "            cv2.circle(frame, (ld[0], ld[1]), 5, color, -1)\n",
    "            cv2.circle(frame, (ld[2], ld[3]), 5, color, -1)\n",
    "            cv2.circle(frame, (ld[4], ld[5]), 5, color, -1)\n",
    "            cv2.circle(frame, (ld[6], ld[7]), 5, color, -1)\n",
    "            cv2.circle(frame, (ld[8], ld[9]), 5, color, -1)\n",
    "    except:\n",
    "        pass\n",
    "\n",
    "    cv2.imshow('Face Detection', frame)\n",
    "\n",
    "    if cv2.waitKey(1) & 0xFF == ord('q'):\n",
    "        break\n",
    "\n",
    "cap.release()\n",
    "cv2.destroyAllWindows()"
   ]
  },
  {
   "cell_type": "code",
   "execution_count": null,
   "id": "71bb1544",
   "metadata": {},
   "outputs": [],
   "source": []
  }
 ],
 "metadata": {
  "kernelspec": {
   "display_name": "Python 3",
   "language": "python",
   "name": "python3"
  },
  "language_info": {
   "codemirror_mode": {
    "name": "ipython",
    "version": 3
   },
   "file_extension": ".py",
   "mimetype": "text/x-python",
   "name": "python",
   "nbconvert_exporter": "python",
   "pygments_lexer": "ipython3",
   "version": "3.8.8"
  }
 },
 "nbformat": 4,
 "nbformat_minor": 5
}
