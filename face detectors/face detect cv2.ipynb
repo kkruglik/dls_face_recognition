{
 "cells": [
  {
   "cell_type": "code",
   "execution_count": null,
   "metadata": {},
   "outputs": [],
   "source": [
    "import cv2\n",
    "from cv2 import imread\n",
    "from cv2 import imshow\n",
    "from cv2 import waitKey\n",
    "from cv2 import destroyAllWindows\n",
    "from cv2 import CascadeClassifier\n",
    "from cv2 import rectangle\n",
    "\n",
    "import numpy as np\n",
    "import pickle\n",
    "\n",
    "from PIL import Image, ImageDraw\n",
    "from IPython import display"
   ]
  },
  {
   "cell_type": "code",
   "execution_count": null,
   "metadata": {},
   "outputs": [],
   "source": [
    "face_cascade = CascadeClassifier(cv2.data.haarcascades + 'haarcascade_frontalface_alt2.xml')\n",
    "eye_cascade = CascadeClassifier(cv2.data.haarcascades + 'haarcascade_eye.xml')"
   ]
  },
  {
   "cell_type": "code",
   "execution_count": null,
   "metadata": {},
   "outputs": [],
   "source": [
    "recognizer = cv2.face.LBPHFaceRecognizer_create()"
   ]
  },
  {
   "cell_type": "code",
   "execution_count": null,
   "metadata": {},
   "outputs": [],
   "source": [
    "BASE_DIR = os.path.dirname(os.path.abspath('__file__'))\n",
    "image_dir = os.path.join(BASE_DIR, \"images\")\n",
    "\n",
    "y_labels = []\n",
    "x_train = []\n",
    "\n",
    "current_id = 0\n",
    "labels_id = {}\n",
    "for root, dirs, files in os.walk(image_dir):\n",
    "    for file in files:\n",
    "        if file.endswith(\"png\") or file.endswith('jpg'):\n",
    "            path = os.path.join(root, file)\n",
    "            label = os.path.basename(os.path.dirname(path))\n",
    "            pil_image = Image.open(path).convert(\"L\")\n",
    "\n",
    "            size = (550, 550)\n",
    "            pil_image = pil_image.resize(size, Image.ANTIALIAS)\n",
    "\n",
    "            image_array = np.array(pil_image, \"uint8\")\n",
    "            faces = face_cascade.detectMultiScale(image_array, scaleFactor=1.5, minNeighbors=5)\n",
    "            if not label in labels_id:\n",
    "                labels_id[label] = current_id\n",
    "                current_id += 1\n",
    "\n",
    "            id_ = labels_id[label]\n",
    "            for (x, y, w, h) in faces:\n",
    "                roi = image_array[y:y+h,  x:x+w] # face from frame in gray\n",
    "                x_train.append(roi)\n",
    "                y_labels.append(id_)"
   ]
  },
  {
   "cell_type": "code",
   "execution_count": null,
   "metadata": {},
   "outputs": [],
   "source": [
    "recognizer.train(x_train, np.array(y_labels))"
   ]
  },
  {
   "cell_type": "code",
   "execution_count": null,
   "metadata": {},
   "outputs": [],
   "source": [
    "# recognizer.save(\"trainer.yml\")\n",
    "recognizer.read(\"trainer.yml\")"
   ]
  },
  {
   "cell_type": "code",
   "execution_count": null,
   "metadata": {},
   "outputs": [],
   "source": [
    "# with open('labels.pickle', 'wb') as file:\n",
    "#     pickle.dump(labels_id, file)\n",
    "\n",
    "with open('labels.pickle', 'rb') as file:\n",
    "    og_labels = pickle.load(file)\n",
    "    labels = {v:k for k,v in og_labels.items()}"
   ]
  },
  {
   "cell_type": "code",
   "execution_count": null,
   "metadata": {},
   "outputs": [],
   "source": [
    "video_capture = cv2.VideoCapture(0)\n",
    "\n",
    "while True:\n",
    "    ret, frame = video_capture.read()\n",
    "\n",
    "    gray = cv2.cvtColor(frame, cv2.COLOR_BGR2GRAY)\n",
    "    faces = face_cascade.detectMultiScale(frame, scaleFactor=1.5, minNeighbors=5)\n",
    "\n",
    "    for (x, y, w, h) in faces:\n",
    "        roi_gray = gray[y:y+h,  x:x+w] # face from frame in gray\n",
    "        roi_color = frame[y:y+h,  x:x+w] # face from frame in color\n",
    "\n",
    "        id_, conf = recognizer.predict(roi_gray)\n",
    "\n",
    "        if conf >= 45:\n",
    "            font = cv2.FONT_HERSHEY_SIMPLEX\n",
    "            name = labels[id_]\n",
    "            color = (255, 255, 255)\n",
    "            stroke = 2\n",
    "            cv2.putText(frame, name, (x,y), font, 1, color, stroke, cv2.LINE_AA)\n",
    "\n",
    "        # saving face (just in some case)\n",
    "        img_item = 'my_face.png'\n",
    "        cv2.imwrite(img_item, roi_color)\n",
    "\n",
    "        color = (255, 0, 0) #BGR\n",
    "        stroke = 5\n",
    "        width_frame = x + w\n",
    "        height_frame = y + h\n",
    "        cv2.rectangle(frame, (x, y), (width_frame, height_frame), color, stroke)\n",
    "\n",
    "    eyes = eye_cascade.detectMultiScale(frame, scaleFactor=1.5, minNeighbors=5)\n",
    "    for (x, y, w, h) in eyes:\n",
    "        roi_gray = gray[y:y+h,  x:x+w]\n",
    "        color = (255, 0, 0) #BGR\n",
    "        stroke = 5\n",
    "        width_frame = x + w\n",
    "        height_frame = y + h\n",
    "        cv2.rectangle(frame, (x, y), (width_frame, height_frame), color, stroke)\n",
    "\n",
    "\n",
    "    # print(roi_color.shape)\n",
    "    # h, w, _ = frame.shape\n",
    "    # img = cv2.cvtColor(frame, cv2.COLOR_BGR2BGR555)\n",
    "    # img  = cv2.resize(img, (640, 480))\n",
    "    # img = np.transpose(img, [2, 0, 1])\n",
    "    # img = np.expand_dims(img, axis=0)\n",
    "    # img = img.astype(np.float32)\n",
    "    # img *= (255.0/img.max())\n",
    "\n",
    "    cv2.imshow('Video', frame)\n",
    "\n",
    "    if cv2.waitKey(1) & 0xFF == ord('q'):\n",
    "        break\n",
    "\n",
    "video_capture.release()\n",
    "cv2.destroyAllWindows()\n"
   ]
  }
 ],
 "metadata": {
  "language_info": {
   "name": "python"
  },
  "orig_nbformat": 4
 },
 "nbformat": 4,
 "nbformat_minor": 2
}
